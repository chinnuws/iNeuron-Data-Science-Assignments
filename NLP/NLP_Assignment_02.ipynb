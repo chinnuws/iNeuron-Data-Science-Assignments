{
  "nbformat": 4,
  "nbformat_minor": 0,
  "metadata": {
    "colab": {
      "name": "NLP_Assignment_02.ipynb",
      "provenance": []
    },
    "kernelspec": {
      "name": "python3",
      "display_name": "Python 3"
    },
    "language_info": {
      "name": "python"
    }
  },
  "cells": [
    {
      "cell_type": "markdown",
      "source": [
        "**Submitted By: Gaurav Ratan**"
      ],
      "metadata": {
        "id": "WvuEP0kLpV8T"
      }
    },
    {
      "cell_type": "markdown",
      "source": [
        "Q1. What are Corpora?\n",
        "\n",
        "Ans: \n",
        "\n",
        "A corpus is a collection of authentic text or audio organized into datasets. Authentic here means text written or audio spoken by a native of the language or dialect. A corpus can be made up of everything from newspapers, novels, recipes, radio broadcasts to television shows, movies, and tweets.\n",
        "\n",
        "How it is done-->NLTK already defines a list of data paths or directories in nltk.data.path. Our custom corpora must be present within any of these given paths so it can be found by NLTK. We can also create a custom nltk_data directory in our home directory and verify that it is in the list of known paths specified by nltk.data.path."
      ],
      "metadata": {
        "id": "-lko5IojpYrw"
      }
    },
    {
      "cell_type": "markdown",
      "source": [
        "Q2. What are Tokens?\n",
        "\n",
        "Ans:\n",
        "\n",
        "Tokens are the building blocks of Natural Language. Tokenization is a way of separating a piece of text into smaller units called tokens. Here, tokens can be either words, characters, or subwords. Hence, tokenization can be broadly classified into 3 types – word, character, and subword (n-gram characters) tokenization"
      ],
      "metadata": {
        "id": "UfvPugnWpk7-"
      }
    },
    {
      "cell_type": "markdown",
      "source": [
        "Q3. What are Unigrams, Bigrams, Trigrams?\n",
        "\n",
        "Ans:\n",
        "\n",
        "A 1-gram (or unigram) is a one-word sequence. For the above sentence, the unigrams would simply be: “I”, “love”, “reading”, “blogs”, “about”, “data”, “science”, “on”, “Medium”, “Channel”.\n",
        "\n",
        "A 2-gram (or bigram) is a two-word sequence of words, like “I love”, “love reading”, or “Medium Channel”.\n",
        "\n",
        "And a 3-gram (or trigram) is a three-word sequence of words like “I love reading”, “about data science” .\n"
      ],
      "metadata": {
        "id": "iPdzOnT8pk5f"
      }
    },
    {
      "cell_type": "markdown",
      "source": [
        "Q4. How to generate n-grams from text?\n",
        "\n",
        "Ans:\n",
        "\n",
        "The Extract N-Gram Features from Text module creates two types of output: Results dataset: A summary of the analyzed text together with the n-grams that were extracted. Columns that you did not select in the Text column option are passed through to the output"
      ],
      "metadata": {
        "id": "fVP_o59x6Cmi"
      }
    },
    {
      "cell_type": "markdown",
      "source": [
        "Q5. Explain Lemmatization\n",
        "\n",
        "Ans:\n",
        "\n",
        "Lemmatization is a text normalization technique used in Natural Language Processing (NLP). It has been studied for a very long time and lemmatization algorithms have been made since the 1960s. Essentially, lemmatization is a technique that switches any kind of a word to its base root mode. It is a linguistic term that means grouping together words with the same root or lemma but with different inflections or derivatives of meaning so they can be analyzed as one item. The aim is to take away inflectional suffixes and prefixes to bring out the word's dictionary form."
      ],
      "metadata": {
        "id": "6V1aotumpk3C"
      }
    },
    {
      "cell_type": "markdown",
      "source": [
        "Q6. Explain Stemming\n",
        "\n",
        "Ans:\n",
        "\n",
        "In linguistic morphology and information retrieval, stemming is the process of reducing inflected (or sometimes derived) words to their word stem, base or root form—generally a written word form. ... A computer program or subroutine that stems word may be called a stemming program, stemming algorithm, or stemmer. \n",
        "\n",
        "Stemming is the process of reducing a word to its word stem that affixes to suffixes and prefixes or to the roots of words known as a lemma. Stemming is important in natural language understanding (NLU) and natural language processing (NLP)."
      ],
      "metadata": {
        "id": "x3bo17oM6RGp"
      }
    },
    {
      "cell_type": "markdown",
      "source": [
        "Q7. Explain Part-of-speech (POS) tagging\n",
        "\n",
        "Ans:\n",
        "\n",
        "Part-of-speech (POS) tagging is a popular Natural Language Processing process which refers to categorizing words in a text (corpus) in correspondence with a particular part of speech, depending on the definition of the word and its context."
      ],
      "metadata": {
        "id": "71a4xcTf6REX"
      }
    },
    {
      "cell_type": "markdown",
      "source": [
        "Q8. Explain Chunking or shallow parsing\n",
        "\n",
        "Ans:\n",
        "\n",
        "Shallow parsing (also chunking or light parsing) is an analysis of a sentence which first identifies constituent parts of sentences (nouns, verbs, adjectives, etc.) and then links them to higher order units that have discrete grammatical meanings (noun groups or phrases, verb groups, etc.)."
      ],
      "metadata": {
        "id": "h1TZjXWc6RCI"
      }
    },
    {
      "cell_type": "markdown",
      "source": [
        "Q9. Explain Noun Phrase (NP) chunking\n",
        "\n",
        "Ans:\n",
        "\n",
        "NP is the user-defined name of the chunk you are searching for. In this case NP stands for noun phrase."
      ],
      "metadata": {
        "id": "aAn1HoO86Q_j"
      }
    },
    {
      "cell_type": "markdown",
      "source": [
        "Q10. Explain Named Entity Recognition\n",
        "\n",
        "Ans:\n",
        "\n",
        "Named entity recognition (NER) — sometimes referred to as entity chunking, extraction, or identification — is the task of identifying and categorizing key information (entities) in text. ... NER is a form of natural language processing (NLP), a subfield of artificial intelligence."
      ],
      "metadata": {
        "id": "2aqC8dXA6Q9M"
      }
    }
  ]
}